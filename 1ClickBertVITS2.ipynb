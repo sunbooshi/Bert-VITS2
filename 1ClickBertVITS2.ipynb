{
 "cells": [
  {
   "cell_type": "markdown",
   "metadata": {
    "id": "K-nlHfzqf58H"
   },
   "source": [
    "# 0、环境准备"
   ]
  },
  {
   "cell_type": "code",
   "execution_count": null,
   "metadata": {
    "scrolled": true
   },
   "outputs": [],
   "source": [
    "import torch\n",
    "\n",
    "if torch.cuda.is_available():\n",
    "    print(\"CUDA is enabled.\")\n",
    "else:\n",
    "    print(\"CUDA is not enabled.\")\n",
    "\n",
    "%env NLTK_DATA=/root/Bert-VITS2/nltk_data\n",
    "\n",
    "from data_prepare import DataPrepare\n",
    "dp = DataPrepare()"
   ]
  },
  {
   "cell_type": "markdown",
   "metadata": {},
   "source": [
    "# 1、上传音频文件\n",
    "\n",
    "请将 **WAV** 格式的音频文件上传到 **/root/Bert-VITS2/inputs/** 目录下"
   ]
  },
  {
   "cell_type": "markdown",
   "metadata": {
    "id": "N1eleBAgGFh3"
   },
   "source": [
    "# 2、训练数据处理"
   ]
  },
  {
   "cell_type": "markdown",
   "metadata": {
    "jp-MarkdownHeadingCollapsed": true
   },
   "source": [
    "## 基础配置"
   ]
  },
  {
   "cell_type": "code",
   "execution_count": null,
   "metadata": {},
   "outputs": [],
   "source": [
    "dp.show_widgets()"
   ]
  },
  {
   "cell_type": "code",
   "execution_count": null,
   "metadata": {},
   "outputs": [],
   "source": [
    "# 准备目录\n",
    "print('准备目录...')\n",
    "dp.prepare_dir()"
   ]
  },
  {
   "cell_type": "code",
   "execution_count": null,
   "metadata": {},
   "outputs": [],
   "source": [
    "# 生成配置文件\n",
    "print('生成配置文件...')\n",
    "dp.generate_config()"
   ]
  },
  {
   "cell_type": "markdown",
   "metadata": {
    "jp-MarkdownHeadingCollapsed": true
   },
   "source": [
    "## 数据处理"
   ]
  },
  {
   "cell_type": "code",
   "execution_count": null,
   "metadata": {
    "cellView": "form",
    "id": "4XFx-6PLEWER"
   },
   "outputs": [],
   "source": [
    "dp.process()\n",
    "print('音频重采样...')\n",
    "!python resample.py\n",
    "print('生成训练集、验证集...')\n",
    "!python preprocess_text.py\n",
    "print('生成Bert...')\n",
    "!python bert_gen.py"
   ]
  },
  {
   "cell_type": "markdown",
   "metadata": {
    "id": "Cm82HrCCEsGc",
    "jp-MarkdownHeadingCollapsed": true
   },
   "source": [
    "# 3、训练"
   ]
  },
  {
   "cell_type": "code",
   "execution_count": null,
   "metadata": {
    "id": "lvwcObnfEukD"
   },
   "outputs": [],
   "source": [
    "!python train_ms.py"
   ]
  },
  {
   "cell_type": "markdown",
   "metadata": {
    "id": "qd0z3mBRE22P"
   },
   "source": [
    "# 4、推理"
   ]
  },
  {
   "cell_type": "markdown",
   "metadata": {
    "jp-MarkdownHeadingCollapsed": true
   },
   "source": [
    "## 配置推理模型"
   ]
  },
  {
   "cell_type": "code",
   "execution_count": null,
   "metadata": {
    "cellView": "form",
    "id": "38Ns5KRGE8zW"
   },
   "outputs": [],
   "source": [
    "# 准备推理模型，默认使用最新的模型\n",
    "# 如果需要使用指定的模型可以直接修改，如model=\"G_200.pth\"\n",
    "dp.prepare_infer(model=\"\")"
   ]
  },
  {
   "cell_type": "markdown",
   "metadata": {
    "id": "spBk2O0HZpb7",
    "jp-MarkdownHeadingCollapsed": true
   },
   "source": [
    "## 启动WebUI推理"
   ]
  },
  {
   "cell_type": "code",
   "execution_count": null,
   "metadata": {
    "cellView": "form",
    "id": "Rlu7blKoZZuc"
   },
   "outputs": [],
   "source": [
    "print('启动webui')\n",
    "!python webui.py"
   ]
  },
  {
   "cell_type": "markdown",
   "metadata": {
    "id": "xKRdeeKWe9o4",
    "jp-MarkdownHeadingCollapsed": true
   },
   "source": [
    "# 5、训练数据保存&恢复\n",
    "所有的训练数据都保存在 **/root/Bert-VITS2/Data/** 目录下，默认情况下，AutoDL实例关机后数据会保存15天。\n",
    "如果想要保存更长时间，可以考虑使用文件存储，具体参考这里 [https://www.autodl.com/docs/fs/](https://www.autodl.com/docs/fs/)\n",
    "\n",
    "**文件存储20GB以下时免费，账号连续3个月未登录或欠费50元以上，文件存储数据将被清空。**\n",
    "\n",
    "使用文件存储还有一个优势，可以在4090显卡训练，但是在便宜的显卡如2080TI上推理，能省不少。\n"
   ]
  },
  {
   "cell_type": "code",
   "execution_count": null,
   "metadata": {},
   "outputs": [],
   "source": [
    "# 保存到/root/autodl-fs\n",
    "print('模型保存中...')\n",
    "!cp /content/Bert-VITS2/config.yml /root/autodl-fs\n",
    "!cp -r /root/Bert-VITS2/Data /root/autodl-fs\n",
    "print('保存完成！')"
   ]
  },
  {
   "cell_type": "code",
   "execution_count": null,
   "metadata": {},
   "outputs": [],
   "source": [
    "# 从/root/autodl-fs恢复\n",
    "!rm -fr /root/Bert-VITS2/Data\n",
    "print('恢复训练数据中...')\n",
    "!cp -r /root/autodl-fs/Data /root/Bert-VITS2\n",
    "!cp /root/autodl-fs/config.yml /root/Bert-VITS2/config.yml"
   ]
  }
 ],
 "metadata": {
  "accelerator": "GPU",
  "colab": {
   "collapsed_sections": [
    "K-nlHfzqf58H",
    "yp1Q3Y1phS8y",
    "lN0lGQHBekHz",
    "RP139P4Qhe18",
    "h4hhxVLUhm1O",
    "1eNwA_teGWJO",
    "Cm82HrCCEsGc",
    "qd0z3mBRE22P",
    "spBk2O0HZpb7",
    "SvOpK_KaZu1D",
    "xKRdeeKWe9o4"
   ],
   "gpuType": "T4",
   "provenance": []
  },
  "kernelspec": {
   "display_name": "Python 3 (ipykernel)",
   "language": "python",
   "name": "python3"
  },
  "language_info": {
   "codemirror_mode": {
    "name": "ipython",
    "version": 3
   },
   "file_extension": ".py",
   "mimetype": "text/x-python",
   "name": "python",
   "nbconvert_exporter": "python",
   "pygments_lexer": "ipython3",
   "version": "3.11.9"
  }
 },
 "nbformat": 4,
 "nbformat_minor": 4
}
